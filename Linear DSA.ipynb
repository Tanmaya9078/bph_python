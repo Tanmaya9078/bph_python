{
 "cells": [
  {
   "cell_type": "code",
   "execution_count": 3,
   "metadata": {},
   "outputs": [
    {
     "name": "stdout",
     "output_type": "stream",
     "text": [
      "[-18, 20, 25]\n"
     ]
    }
   ],
   "source": [
    "# 1  : Delete Elements\n",
    "\n",
    "class Node():\n",
    "  def __init__(self,data):\n",
    "     self.data = data\n",
    "     self.next = None\n",
    "\n",
    "class Linkedlist():\n",
    "   def __init__(self):\n",
    "     self.head = None\n",
    "    \n",
    "   def append(self,data):\n",
    "     new_node = Node(data)\n",
    "     h = self.head\n",
    "     if self.head is None:\n",
    "         self.head = new_node\n",
    "         return\n",
    "     else:\n",
    "         while h.next!=None:\n",
    "             h = h.next\n",
    "         h.next = new_node\n",
    "\n",
    "   def remove_zeros_from_linkedlist(self, head):\n",
    "     stack = []\n",
    "     cur = head\n",
    "     list = []\n",
    "     while (cur):\n",
    "         if cur.data >= 0:\n",
    "             stack.append(cur)\n",
    "         else:\n",
    "             temp = cur\n",
    "             sum = temp.data\n",
    "             flag = False\n",
    "             while (len(stack) != 0):\n",
    "                 temp2 = stack.pop()\n",
    "                 sum += temp2.data\n",
    "                 if sum == 0:\n",
    "                     flag = True\n",
    "                     list = []\n",
    "                     break\n",
    "                 elif sum > 0:\n",
    "                     list.append(temp2)\n",
    "             if not flag:\n",
    "                 if len(list) > 0:\n",
    "                     for i in range(len(list)):\n",
    "                         stack.append(list.pop())\n",
    "                 stack.append(temp)\n",
    "         cur = cur.next\n",
    "     return [i.data for i in stack]\n",
    "\n",
    "if __name__ == \"__main__\":\n",
    " l = Linkedlist()\n",
    " \n",
    " l.append(4)\n",
    " l.append(-10)\n",
    " l.append(-4)\n",
    " l.append(9)\n",
    " l.append(10)\n",
    " l.append(-19)\n",
    " l.append(10)\n",
    " l.append(-18)\n",
    " l.append(20)\n",
    " l.append(25)\n",
    " print(l.remove_zeros_from_linkedlist(l.head))"
   ]
  },
  {
   "cell_type": "code",
   "execution_count": 6,
   "metadata": {},
   "outputs": [
    {
     "name": "stdout",
     "output_type": "stream",
     "text": [
      "Given linked list\n",
      "5 6 7 21 22 23 17 18 19 \n",
      "Reversed Linked list\n",
      "7 6 5 23 22 21 19 18 17 "
     ]
    }
   ],
   "source": [
    "#2:Reverse a linked list in groups of given size\n",
    "class Node:\n",
    "\tdef __init__(self, data):\n",
    "\t\tself.data = data\n",
    "\t\tself.next = None\n",
    "\n",
    "class LinkedList:\n",
    "\tdef __init__(self):\n",
    "\t\tself.head = None\n",
    "\n",
    "\tdef reverse(self, head, k):\n",
    "\t\t\n",
    "\t\tif head == None:\n",
    "\t\t  return None\n",
    "\t\tcurrent = head\n",
    "\t\tnext = None\n",
    "\t\tprev = None\n",
    "\t\tcount = 0\n",
    "\n",
    "\t\twhile(current is not None and count < k):\n",
    "\t\t\tnext = current.next\n",
    "\t\t\tcurrent.next = prev\n",
    "\t\t\tprev = current\n",
    "\t\t\tcurrent = next\n",
    "\t\t\tcount += 1\n",
    "\n",
    "\t\tif next is not None:\n",
    "\t\t\thead.next = self.reverse(next, k)\n",
    "\t\treturn prev\n",
    "\n",
    "\tdef push(self, new_data):\n",
    "\t\tnew_node = Node(new_data)\n",
    "\t\tnew_node.next = self.head\n",
    "\t\tself.head = new_node\n",
    "\n",
    "\tdef printList(self):\n",
    "\t\ttemp = self.head\n",
    "\t\twhile(temp):\n",
    "\t\t\tprint(temp.data,end=' ')\n",
    "\t\t\ttemp = temp.next\n",
    "\n",
    "llist = LinkedList()\n",
    "llist.push(19)\n",
    "llist.push(18)\n",
    "llist.push(17)\n",
    "llist.push(23)\n",
    "llist.push(22)\n",
    "llist.push(21)\n",
    "llist.push(7)\n",
    "llist.push(6)\n",
    "llist.push(5)\n",
    "\n",
    "print(\"Given linked list\")\n",
    "llist.printList()\n",
    "llist.head = llist.reverse(llist.head, 3)\n",
    "\n",
    "print (\"\\nReversed Linked list\")\n",
    "llist.printList()"
   ]
  },
  {
   "cell_type": "code",
   "execution_count": 7,
   "metadata": {},
   "outputs": [
    {
     "name": "stdout",
     "output_type": "stream",
     "text": [
      "First Linked List:\n",
      "12 16 20 24 \n",
      "Second Linked List:\n",
      "162 54 18 6 \n",
      "Modified first linked list:\n",
      "12 162 16 54 20 18 24 6 \n",
      "Modified second linked list:\n"
     ]
    }
   ],
   "source": [
    "#3:Merge a linked list\n",
    "class Node(object):\n",
    "    def __init__(self, data:int):\n",
    "        self.data = data\n",
    "        self.next = None\n",
    "\n",
    "\n",
    "class LinkedList(object):\n",
    "    def __init__(self):\n",
    "        self.head = None\n",
    "        \n",
    "    def push(self, new_data:int):\n",
    "        new_node = Node(new_data)\n",
    "        new_node.next = self.head\n",
    "        self.head = new_node\n",
    "        \n",
    "    def printList(self):\n",
    "        temp = self.head\n",
    "        while temp != None:\n",
    "            print(temp.data,end=\" \")\n",
    "            temp = temp.next\n",
    "            \n",
    "    def merge(self, p, q):\n",
    "        p_curr = p.head\n",
    "        q_curr = q.head\n",
    "\n",
    "        while p_curr != None and q_curr != None:\n",
    "\n",
    "            p_next = p_curr.next\n",
    "            q_next = q_curr.next\n",
    "            q_curr.next = p_next \n",
    "            p_curr.next = q_curr \n",
    "            p_curr = p_next\n",
    "            q_curr = q_next\n",
    "            q.head = q_curr\n",
    "\n",
    "\n",
    "\n",
    "llist1 = LinkedList()\n",
    "llist2 = LinkedList()\n",
    "\n",
    "llist1.push(24)\n",
    "llist1.push(20)\n",
    "llist1.push(16)\n",
    "llist1.push(12)\n",
    "\n",
    "llist2.push(6)\n",
    "llist2.push(18)\n",
    "llist2.push(54)\n",
    "llist2.push(162)\n",
    "print(\"First Linked List:\")\n",
    "llist1.printList()\n",
    "\n",
    "print(\"\\nSecond Linked List:\")\n",
    "llist2.printList()\n",
    "\n",
    "llist1.merge(p=llist1, q=llist2)\n",
    "\n",
    "print(\"\\nModified first linked list:\")\n",
    "llist1.printList()\n",
    "\n",
    "print(\"\\nModified second linked list:\")\n",
    "llist2.printList()"
   ]
  },
  {
   "cell_type": "code",
   "execution_count": 5,
   "metadata": {},
   "outputs": [
    {
     "name": "stdout",
     "output_type": "stream",
     "text": [
      "Pair found (5, 1)\n"
     ]
    }
   ],
   "source": [
    "#4:Count Pair\n",
    "def findPair(nums, target):\n",
    "    for i in range(len(nums) - 1):\n",
    "        for j in range(i + 1, len(nums)):\n",
    "            if nums[i] + nums[j] == target:\n",
    "                print('Pair found', (nums[i], nums[j]))\n",
    "                return\n",
    "    print('Pair not found') \n",
    "if __name__ == '__main__':\n",
    " \n",
    "    nums = [ 7, 2, 5, 3, 1]\n",
    "    target = 6\n",
    "    findPair(nums, target)"
   ]
  },
  {
   "cell_type": "code",
   "execution_count": 9,
   "metadata": {},
   "outputs": [
    {
     "name": "stdout",
     "output_type": "stream",
     "text": [
      "\n",
      " Duplicate Nums:\n",
      "{4, 6}\n"
     ]
    }
   ],
   "source": [
    "#5:Duplicate in an array\n",
    "\n",
    "def findDuplicates(nums):\n",
    "    freq = {}\n",
    "    for i in nums:\n",
    "        freq[i] = freq.setdefault(i, 0) + 1\n",
    "    return {key for key in freq.keys() if freq[key] >= 2}\n",
    "if __name__ == '__main__':\n",
    "    nums = [2,4,6,8,4,6]\n",
    "    print(\"\\n Duplicate Nums:\")    \n",
    "    result = findDuplicates(nums)\n",
    "print(result)   "
   ]
  },
  {
   "cell_type": "code",
   "execution_count": 10,
   "metadata": {},
   "outputs": [
    {
     "name": "stdout",
     "output_type": "stream",
     "text": [
      "kth Largest element 6, kth Smallest element 5\n"
     ]
    }
   ],
   "source": [
    "#6: find kth Largest and Smallest element\n",
    "from typing import List\n",
    "class Solution:\n",
    "    def kth_Largest_And_Smallest_By_AscendingOrder(self, arr: List[int], k: int) -> None:\n",
    "        arr.sort()\n",
    "        n = len(arr)\n",
    "        print(\n",
    "            f\"kth Largest element {arr[n - k]}, kth Smallest element {arr[k - 1]}\")\n",
    "if __name__ == \"__main__\":\n",
    "    arr = [2,4,6,7,5,8]\n",
    "    Solution().kth_Largest_And_Smallest_By_AscendingOrder(arr, 3)"
   ]
  },
  {
   "cell_type": "code",
   "execution_count": 3,
   "metadata": {},
   "outputs": [
    {
     "name": "stdout",
     "output_type": "stream",
     "text": [
      "-8 -6 -5 -4 2 5 6 7 9 "
     ]
    }
   ],
   "source": [
    "#7:Move all the -ve element one side of the array\n",
    "\n",
    "def move(arr):\n",
    "  arr.sort()\n",
    "arr = [ -6, 2, -5, -4, 5, 6, 7, -8, 9 ]\n",
    "move(arr)\n",
    "for  i in arr:\n",
    "\tprint(i , end = \" \")\n"
   ]
  },
  {
   "cell_type": "code",
   "execution_count": 1,
   "metadata": {},
   "outputs": [
    {
     "name": "stdout",
     "output_type": "stream",
     "text": [
      "The original string is : Tanmaya\n",
      "The reversed string using stack is : ayamnaT\n"
     ]
    }
   ],
   "source": [
    "#8:reverse a string using  Stack\n",
    "def createStack():\n",
    "    stack = []\n",
    "    return stack\n",
    "\n",
    "def size(stack):\n",
    "    return len(stack)\n",
    "\n",
    "def isEmpty(stack):\n",
    "    if size(stack) == 0:\n",
    "        return true\n",
    "\n",
    "def push(stack, item):\n",
    "    stack.append(item)\n",
    "\n",
    "def pop(stack):\n",
    "    if isEmpty(stack):\n",
    "        return\n",
    "    return stack.pop()\n",
    "\n",
    "def reverse(string):\n",
    "    n = len(string)\n",
    "\n",
    "    stack = createStack()\n",
    "\n",
    "    for i in range(0, n, 1):\n",
    "        push(stack, string[i])\n",
    "\n",
    "    string = \"\"\n",
    "    for i in range(0, n, 1):\n",
    "        string += pop(stack)\n",
    "    return string\n",
    "\n",
    "s = \"Tanmaya\"\n",
    "print(\"The original string is : \", end=\"\")\n",
    "print(s)\n",
    "print(\"The reversed string using stack is : \", end=\"\")\n",
    "print(reverse(s))\n"
   ]
  },
  {
   "cell_type": "code",
   "execution_count": null,
   "metadata": {},
   "outputs": [],
   "source": [
    "#9:Evaluate postfix Expression using Stack\n",
    "\n",
    "\n",
    "class evaluate_postfix:\n",
    "    def __init__(self):\n",
    "        self.items=[]\n",
    "        self.size=-1\n",
    "    def isEmpty(self):\n",
    "        return self.items==[]\n",
    "    def push(self,item):\n",
    "        self.items.append(item)\n",
    "        self.size+=1\n",
    "    def pop(self):\n",
    "        if self.isEmpty():\n",
    "            return 0\n",
    "        else:\n",
    "            self.size-=1\n",
    "            return self.items.pop()\n",
    "    def seek(self):\n",
    "        if self.isEmpty():\n",
    "            return False\n",
    "        else:\n",
    "            return self.items[self.size]\n",
    "    def evalute(self,expr):\n",
    "        for i in expr:\n",
    "            if i in '0123456789':\n",
    "                self.push(i)\n",
    "            else:\n",
    "                op1=self.pop()\n",
    "                op2=self.pop()\n",
    "                result=self.cal(op2,op1,i)\n",
    "                self.push(result)\n",
    "        return self.pop()\n",
    "    def cal(self,op2,op1,i):\n",
    "        if i is '*':\n",
    "            return int(op2)*int(op1)\n",
    "        elif i is '/':\n",
    "            return int(op2)/int(op1)\n",
    "        elif i is '+':\n",
    "            return int(op2)+int(op1)\n",
    "        elif i is '-':\n",
    "            return int(op2)-int(op1)\n",
    "s=evaluate_postfix()\n",
    "expr=input('enter the postfix expression')\n",
    "value=s.evalute(expr)\n",
    "print('the result of postfix expression',expr,'is',value)"
   ]
  },
  {
   "cell_type": "code",
   "execution_count": 20,
   "metadata": {},
   "outputs": [
    {
     "name": "stdout",
     "output_type": "stream",
     "text": [
      "11\n",
      "22\n",
      "33\n"
     ]
    }
   ],
   "source": [
    "#10:implement queue using data strcture\n",
    "class Queue:\n",
    "    def __init__(self):\n",
    "        self.s1 = []\n",
    "        self.s2 = []\n",
    "    def enQueue(self, x):\n",
    "        self.s1.append(x)\n",
    " \n",
    "    def deQueue(self):\n",
    "        if len(self.s1) == 0 and len(self.s2) == 0:\n",
    "           print(\"Q is Empty\")\n",
    "           return\n",
    " \n",
    "        elif len(self.s2) == 0 and len(self.s1) > 0:\n",
    "            while len(self.s1):\n",
    "                temp = self.s1.pop()\n",
    "                self.s2.append(temp)\n",
    "            return self.s2.pop()\n",
    " \n",
    "        else:\n",
    "            return self.s2.pop()\n",
    "if __name__ == '__main__':\n",
    "    q = Queue()\n",
    "    q.enQueue(11)\n",
    "    q.enQueue(22)\n",
    "    q.enQueue(33)\n",
    "\n",
    " \n",
    "    print(q.deQueue())\n",
    "    print(q.deQueue())\n",
    "    print(q.deQueue())     \n"
   ]
  }
 ],
 "metadata": {
  "kernelspec": {
   "display_name": "base",
   "language": "python",
   "name": "python3"
  },
  "language_info": {
   "codemirror_mode": {
    "name": "ipython",
    "version": 3
   },
   "file_extension": ".py",
   "mimetype": "text/x-python",
   "name": "python",
   "nbconvert_exporter": "python",
   "pygments_lexer": "ipython3",
   "version": "3.11.3"
  },
  "orig_nbformat": 4
 },
 "nbformat": 4,
 "nbformat_minor": 2
}
